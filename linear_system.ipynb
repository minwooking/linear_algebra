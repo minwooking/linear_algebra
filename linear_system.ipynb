{
 "cells": [
  {
   "cell_type": "code",
   "execution_count": 28,
   "metadata": {},
   "outputs": [],
   "source": [
    "import numpy as np\n",
    "import pandas as pd\n",
    "from copy import deepcopy, copy"
   ]
  },
  {
   "cell_type": "code",
   "execution_count": 62,
   "metadata": {},
   "outputs": [],
   "source": [
    "X = [[3,1, 2 ] ,\n",
    "     [2,6, -1] ,\n",
    "     [4, 0 , 1]\n",
    "    ]\n",
    "y = [5,1,3]"
   ]
  },
  {
   "cell_type": "code",
   "execution_count": 30,
   "metadata": {},
   "outputs": [],
   "source": [
    "x0 = X[0]\n",
    "x1 = X[1]\n",
    "x2 = X[2]\n",
    "\n",
    "y0 =  y[0]\n",
    "y1 = y[1]\n",
    "y2 = y[2]"
   ]
  },
  {
   "cell_type": "code",
   "execution_count": 31,
   "metadata": {},
   "outputs": [
    {
     "name": "stdout",
     "output_type": "stream",
     "text": [
      "\n",
      "[3, 1, 2]  5 \n",
      "\n",
      "[2, 6, -1]  1 \n",
      "\n",
      "[4, 0, 1]  3 \n",
      "      \n",
      "\n"
     ]
    }
   ],
   "source": [
    "print (f'''\n",
    "{x0}  {y0} \\n\n",
    "{x1}  {y1} \\n\n",
    "{x2}  {y2} \\n      \n",
    "'''    \n",
    ")"
   ]
  },
  {
   "cell_type": "code",
   "execution_count": 32,
   "metadata": {},
   "outputs": [
    {
     "name": "stdout",
     "output_type": "stream",
     "text": [
      "\n",
      "[1.0, 0.3333333333333333, 0.6666666666666666]  1.6666666666666665 \n",
      "\n",
      "[2, 6, -1]  1 \n",
      "\n",
      "[4, 0, 1]  3 \n",
      "      \n",
      "\n"
     ]
    }
   ],
   "source": [
    "tmp = 1/x0[0]\n",
    "x0 = [element * tmp for element in x0]\n",
    "y0 = y0 * tmp\n",
    "\n",
    "print (f'''\n",
    "{x0}  {y0} \\n\n",
    "{x1}  {y1} \\n\n",
    "{x2}  {y2} \\n      \n",
    "'''    \n",
    ")"
   ]
  },
  {
   "cell_type": "code",
   "execution_count": 33,
   "metadata": {},
   "outputs": [
    {
     "name": "stdout",
     "output_type": "stream",
     "text": [
      "[-2.0, -0.6666666666666666, -1.3333333333333333] -3.333333333333333\n",
      "1행 x-2 + 2행\n",
      "\n",
      "[1.0, 0.3333333333333333, 0.6666666666666666]  1.6666666666666665 \n",
      "\n",
      "[0.0, 5.333333333333333, -2.333333333333333]  -2.333333333333333 \n",
      "\n",
      "[4, 0, 1]  3 \n",
      "      \n",
      "\n"
     ]
    }
   ],
   "source": [
    "x0_tmp = [e * -x1[0] for e in x0]\n",
    "y0_tmp = y0 * -x1[0]\n",
    "print(x0_tmp, y0_tmp)\n",
    "\n",
    "for i in range(0, len(x0)):\n",
    "    x1[i] = x0_tmp[i] + x1[i]\n",
    "y1 = y0_tmp + y1\n",
    "print('1행 x-2 + 2행')\n",
    "print (f'''\n",
    "{x0}  {y0} \\n\n",
    "{x1}  {y1} \\n\n",
    "{x2}  {y2} \\n      \n",
    "'''    \n",
    ")"
   ]
  },
  {
   "cell_type": "code",
   "execution_count": 34,
   "metadata": {},
   "outputs": [
    {
     "name": "stdout",
     "output_type": "stream",
     "text": [
      "[-4.0, -1.3333333333333333, -2.6666666666666665] -6.666666666666666\n",
      "\n",
      "[1.0, 0.3333333333333333, 0.6666666666666666]  1.6666666666666665 \n",
      "\n",
      "[0.0, 5.333333333333333, -2.333333333333333]  -2.333333333333333 \n",
      "\n",
      "[0.0, -1.3333333333333333, -1.6666666666666665]  3 \n",
      "      \n",
      "\n"
     ]
    }
   ],
   "source": [
    "x0_tmp = [e * -x2[0] for e in x0]\n",
    "y0_tmp = y0 * -x2[0]\n",
    "print(x0_tmp , y0_tmp)\n",
    "\n",
    "for i in range(0 , len(x0)):\n",
    "    x2[i] = x0_tmp[i]  +x2[i]\n",
    "\n",
    "\n",
    "print (f'''\n",
    "{x0}  {y0} \\n\n",
    "{x1}  {y1} \\n\n",
    "{x2}  {y2} \\n      \n",
    "'''    \n",
    ")"
   ]
  },
  {
   "cell_type": "code",
   "execution_count": 52,
   "metadata": {},
   "outputs": [],
   "source": [
    "def zero_mat(n,p):\n",
    "    Z = []\n",
    "    for i in range(0, n):\n",
    "        row = []\n",
    "        for j in range(0,p):\n",
    "            row.append(0)\n",
    "        Z.append(row)\n",
    "    return Z"
   ]
  },
  {
   "cell_type": "code",
   "execution_count": 57,
   "metadata": {},
   "outputs": [],
   "source": [
    "def deepcopy(A):\n",
    "    if type(A[0]) == list:\n",
    "        n = len(A)\n",
    "        p = len(A[0])\n",
    "        res  = zero_mat(n,p)\n",
    "        for i in range(0,n):\n",
    "            for j in range(0,p):\n",
    "                res[i][j] = A[i][j]\n",
    "        return res\n",
    "    else:\n",
    "        n = len(A)\n",
    "        res = []\n",
    "        for i in range(0,n):\n",
    "            res.append(A[i])\n",
    "        return res"
   ]
  },
  {
   "cell_type": "code",
   "execution_count": 58,
   "metadata": {},
   "outputs": [],
   "source": [
    "def solve(A,b):\n",
    "    '''\n",
    "    연립 방정식 풀기\n",
    "    입력값 :  솔루션을 구하고 싶은 A,b\n",
    "    출력값 : 방정식의 솔루션 sol\n",
    "    '''\n",
    "    X = deepcopy(A)\n",
    "    sol = deepcopy(b)\n",
    "    n = len(X)\n",
    "    for i in range(0 , n ):\n",
    "        print(f'--{i}번째 실행 시작!')\n",
    "        x_row = X[i]\n",
    "        y_val = sol[i]\n",
    "        if x_row[i] != 0:\n",
    "            tmp = 1/x_row[i]\n",
    "        else:\n",
    "            tmp = 0\n",
    "        X[i] = x_row \n",
    "        sol[i] = y_val\n",
    "        print(x_row)\n",
    "        print(y_val)\n",
    "        print('------행 나누기 완료')\n",
    "        for j in range(0,n):\n",
    "            if i==j:\n",
    "                continue #  i==j 같으면 건너뜀 \n",
    "            print(f'{j}번째 실행 시작')\n",
    "            x_next = X[j]\n",
    "            y_next = sol[j]\n",
    "            x_tmp = [e * -x_next[i] for e in x_row]\n",
    "            y_tmp = y_val*(-x_next[i])\n",
    "            for k in range(0, len(x_row)):\n",
    "                x_next[k] = x_tmp[k] + x_next[k]\n",
    "            y_next = y_tmp + y_next\n",
    "            X[j] = x_next\n",
    "            sol[j] = y_next\n",
    "            print(X)\n",
    "            print(sol)\n",
    "            print(f'----{j}번째 실행 종료-----')\n",
    "        print(f'{i}번째 실행 완료!')\n",
    "    return sol\n",
    "            "
   ]
  },
  {
   "cell_type": "code",
   "execution_count": 59,
   "metadata": {},
   "outputs": [
    {
     "name": "stdout",
     "output_type": "stream",
     "text": [
      "--0번째 실행 시작!\n",
      "[3, 1, 2]\n",
      "5\n",
      "------행 나누기 완료\n",
      "1번째 실행 시작\n",
      "[[3, 1, 2], [-4, 4, -5], [4, 0, 1]]\n",
      "[5, -9, 3]\n",
      "----1번째 실행 종료-----\n",
      "2번째 실행 시작\n",
      "[[3, 1, 2], [-4, 4, -5], [-8, -4, -7]]\n",
      "[5, -9, -17]\n",
      "----2번째 실행 종료-----\n",
      "0번째 실행 완료!\n",
      "--1번째 실행 시작!\n",
      "[-4, 4, -5]\n",
      "-9\n",
      "------행 나누기 완료\n",
      "0번째 실행 시작\n",
      "[[7, -3, 7], [-4, 4, -5], [-8, -4, -7]]\n",
      "[14, -9, -17]\n",
      "----0번째 실행 종료-----\n",
      "2번째 실행 시작\n",
      "[[7, -3, 7], [-4, 4, -5], [-24, 12, -27]]\n",
      "[14, -9, -53]\n",
      "----2번째 실행 종료-----\n",
      "1번째 실행 완료!\n",
      "--2번째 실행 시작!\n",
      "[-24, 12, -27]\n",
      "-53\n",
      "------행 나누기 완료\n",
      "0번째 실행 시작\n",
      "[[175, -87, 196], [-4, 4, -5], [-24, 12, -27]]\n",
      "[385, -9, -53]\n",
      "----0번째 실행 종료-----\n",
      "1번째 실행 시작\n",
      "[[175, -87, 196], [-124, 64, -140], [-24, 12, -27]]\n",
      "[385, -274, -53]\n",
      "----1번째 실행 종료-----\n",
      "2번째 실행 완료!\n",
      "[385, -274, -53]\n"
     ]
    }
   ],
   "source": [
    "sol = solve(X,y)\n",
    "print(sol)"
   ]
  },
  {
   "cell_type": "code",
   "execution_count": 60,
   "metadata": {},
   "outputs": [
    {
     "name": "stdout",
     "output_type": "stream",
     "text": [
      "--0번째 실행 시작!\n",
      "[3, 1, 2]\n",
      "5\n",
      "------행 나누기 완료\n",
      "1번째 실행 시작\n",
      "[[3, 1, 2], [-4, 4, -5], [4, 0, 1]]\n",
      "[5, -9, 3]\n",
      "----1번째 실행 종료-----\n",
      "2번째 실행 시작\n",
      "[[3, 1, 2], [-4, 4, -5], [-8, -4, -7]]\n",
      "[5, -9, -17]\n",
      "----2번째 실행 종료-----\n",
      "0번째 실행 완료!\n",
      "--1번째 실행 시작!\n",
      "[-4, 4, -5]\n",
      "-9\n",
      "------행 나누기 완료\n",
      "0번째 실행 시작\n",
      "[[7, -3, 7], [-4, 4, -5], [-8, -4, -7]]\n",
      "[14, -9, -17]\n",
      "----0번째 실행 종료-----\n",
      "2번째 실행 시작\n",
      "[[7, -3, 7], [-4, 4, -5], [-24, 12, -27]]\n",
      "[14, -9, -53]\n",
      "----2번째 실행 종료-----\n",
      "1번째 실행 완료!\n",
      "--2번째 실행 시작!\n",
      "[-24, 12, -27]\n",
      "-53\n",
      "------행 나누기 완료\n",
      "0번째 실행 시작\n",
      "[[175, -87, 196], [-4, 4, -5], [-24, 12, -27]]\n",
      "[385, -9, -53]\n",
      "----0번째 실행 종료-----\n",
      "1번째 실행 시작\n",
      "[[175, -87, 196], [-124, 64, -140], [-24, 12, -27]]\n",
      "[385, -274, -53]\n",
      "----1번째 실행 종료-----\n",
      "2번째 실행 완료!\n"
     ]
    },
    {
     "data": {
      "text/plain": [
       "[385, -274, -53]"
      ]
     },
     "execution_count": 60,
     "metadata": {},
     "output_type": "execute_result"
    }
   ],
   "source": [
    "solve(X,y)"
   ]
  },
  {
   "cell_type": "code",
   "execution_count": 63,
   "metadata": {},
   "outputs": [
    {
     "name": "stdout",
     "output_type": "stream",
     "text": [
      "[0.27777778 0.38888889 1.88888889]\n"
     ]
    }
   ],
   "source": [
    "xnp = np.array(X)\n",
    "ynp = np.array(y)\n",
    "\n",
    "sol = np.linalg.solve(xnp,ynp)\n",
    "print(sol)"
   ]
  },
  {
   "cell_type": "code",
   "execution_count": null,
   "metadata": {},
   "outputs": [],
   "source": []
  },
  {
   "cell_type": "code",
   "execution_count": null,
   "metadata": {},
   "outputs": [],
   "source": []
  }
 ],
 "metadata": {
  "kernelspec": {
   "display_name": "Python 3",
   "language": "python",
   "name": "python3"
  },
  "language_info": {
   "codemirror_mode": {
    "name": "ipython",
    "version": 3
   },
   "file_extension": ".py",
   "mimetype": "text/x-python",
   "name": "python",
   "nbconvert_exporter": "python",
   "pygments_lexer": "ipython3",
   "version": "3.10.6"
  },
  "orig_nbformat": 4
 },
 "nbformat": 4,
 "nbformat_minor": 2
}
